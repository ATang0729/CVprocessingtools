{
 "cells": [
  {
   "cell_type": "markdown",
   "source": [
    "# 该Notebook用于在测试集上生成参赛结果"
   ],
   "metadata": {
    "collapsed": false
   }
  },
  {
   "cell_type": "code",
   "execution_count": null,
   "outputs": [],
   "source": [
    "!cd autodl-tmp/mmyolo"
   ],
   "metadata": {
    "collapsed": false,
    "pycharm": {
     "is_executing": true
    }
   }
  },
  {
   "cell_type": "markdown",
   "source": [
    "# 模型训练"
   ],
   "metadata": {
    "collapsed": false
   }
  },
  {
   "cell_type": "code",
   "execution_count": null,
   "outputs": [],
   "source": [
    "!python tools/train.py my_config_finetune_rtmX.py"
   ],
   "metadata": {
    "collapsed": false
   }
  },
  {
   "cell_type": "markdown",
   "source": [
    "# 模型测试"
   ],
   "metadata": {
    "collapsed": false
   }
  },
  {
   "cell_type": "code",
   "execution_count": null,
   "outputs": [],
   "source": [
    "# !python tools/test.py \\\n",
    "#     work_dirs/rtmdet_s_syncbn_fast_8xb32-300e_coco/my_config.py \\\n",
    "#     work_dirs/rtmdet_s_syncbn_fast_8xb32-300e_coco/epoch_50.pth \\\n",
    "#     --work-dir work_dirs/rtmdet_s_syncbn_fast_8xb32-300e_coco \\\n",
    "#     -show-dir show_resulte \\\n",
    "#     --show"
   ],
   "metadata": {
    "collapsed": false
   }
  },
  {
   "cell_type": "code",
   "execution_count": null,
   "outputs": [],
   "source": [
    "!python demo/image_demo.py \\\n",
    "    data/kdxf_test/train/00532.jpg \\\n",
    "    work_dirs/614_finetune/my_config_finetune.py \\\n",
    "    work_dirs/614_finetune/epoch_50.pth \\\n",
    "    --out-dir work_dirs/614_finetune/test_results"
   ],
   "metadata": {
    "collapsed": false
   }
  },
  {
   "cell_type": "markdown",
   "source": [
    "# 测试并筛除"
   ],
   "metadata": {
    "collapsed": false
   }
  },
  {
   "cell_type": "code",
   "execution_count": null,
   "outputs": [],
   "source": [
    "# !python tools/test.py \\\n",
    "#     work_dirs/614_finetune/my_config_finetune.py \\\n",
    "#     work_dirs/614_finetune/epoch_50.pth \\\n",
    "#     --json-prefix work_dirs/614_finetune/json_demo"
   ],
   "metadata": {
    "collapsed": false
   }
  },
  {
   "cell_type": "code",
   "execution_count": null,
   "outputs": [],
   "source": [
    "# !python json_demo_filter.py"
   ],
   "metadata": {
    "collapsed": false
   }
  }
 ],
 "metadata": {
  "kernelspec": {
   "display_name": "Python 3",
   "language": "python",
   "name": "python3"
  },
  "language_info": {
   "codemirror_mode": {
    "name": "ipython",
    "version": 2
   },
   "file_extension": ".py",
   "mimetype": "text/x-python",
   "name": "python",
   "nbconvert_exporter": "python",
   "pygments_lexer": "ipython2",
   "version": "2.7.6"
  }
 },
 "nbformat": 4,
 "nbformat_minor": 0
}
